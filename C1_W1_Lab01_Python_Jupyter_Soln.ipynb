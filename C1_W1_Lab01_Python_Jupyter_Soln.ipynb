{
  "cells": [
    {
      "cell_type": "markdown",
      "metadata": {
        "id": "view-in-github",
        "colab_type": "text"
      },
      "source": [
        "<a href=\"https://colab.research.google.com/github/jessicachiang/copier/blob/master/C1_W1_Lab01_Python_Jupyter_Soln.ipynb\" target=\"_parent\"><img src=\"https://colab.research.google.com/assets/colab-badge.svg\" alt=\"Open In Colab\"/></a>"
      ]
    },
    {
      "cell_type": "markdown",
      "metadata": {
        "id": "UaZ_gay2Iked"
      },
      "source": [
        "# Optional Lab:  Brief Introduction to Python and Jupyter Notebooks\n",
        "Welcome to the first optional lab!\n",
        "Optional labs are available to:\n",
        "- provide information - like this notebook\n",
        "- reinforce lecture material with hands-on examples\n",
        "- provide working examples of routines used in the graded labs"
      ],
      "id": "UaZ_gay2Iked"
    },
    {
      "cell_type": "markdown",
      "metadata": {
        "id": "4wTtTviUIkef"
      },
      "source": [
        "## Goals\n",
        "In this lab, you will:\n",
        "- Get a brief introduction to Jupyter notebooks\n",
        "- Take a tour of Jupyter notebooks\n",
        "- Learn the difference between markdown cells and code cells\n",
        "- Practice some basic python\n"
      ],
      "id": "4wTtTviUIkef"
    },
    {
      "cell_type": "markdown",
      "metadata": {
        "id": "pEHsiGeWIkeg"
      },
      "source": [
        "The easiest way to become familiar with Jupyter notebooks is to take the tour available above in the Help menu:"
      ],
      "id": "pEHsiGeWIkeg"
    },
    {
      "cell_type": "markdown",
      "metadata": {
        "id": "gmNbk8yfIkeg"
      },
      "source": [
        "<figure>\n",
        "    <center> <img src=\"./images/C1W1L1_Tour.PNG\"  alt='missing' width=\"400\"  ><center/>\n",
        "<figure/>"
      ],
      "id": "gmNbk8yfIkeg"
    },
    {
      "cell_type": "markdown",
      "metadata": {
        "id": "7yn-SdXzIkeg"
      },
      "source": [
        "<figure>\n",
        "   <img src=\"./images/C1W1L1_Markdown.PNG\"  alt='missing' width=\"400\"  >\n",
        "<figure/>"
      ],
      "id": "7yn-SdXzIkeg"
    },
    {
      "cell_type": "markdown",
      "metadata": {
        "id": "7pcRlqkPIkeh"
      },
      "source": [
        "The other type of cell is the `code cell` where you will write your code:"
      ],
      "id": "7pcRlqkPIkeh"
    },
    {
      "cell_type": "code",
      "execution_count": null,
      "metadata": {
        "id": "X9a9sITsIkeh",
        "outputId": "ec71d284-e009-44aa-c81b-2c3d72f10ad1",
        "colab": {
          "base_uri": "https://localhost:8080/"
        }
      },
      "outputs": [
        {
          "output_type": "stream",
          "name": "stdout",
          "text": [
            "This is  code cell - jess\n"
          ]
        }
      ],
      "source": [
        "#This is  a 'Code' Cell\n",
        "print(\"This is  code cell - jess\")"
      ],
      "id": "X9a9sITsIkeh"
    },
    {
      "cell_type": "markdown",
      "metadata": {
        "id": "YVGgx7x8Ikei"
      },
      "source": [
        "## Python\n",
        "You can write your code in the code cells.\n",
        "To run the code, select the cell and either\n",
        "- hold the shift-key down and hit 'enter' or 'return'\n",
        "- click the 'run' arrow above\n",
        "<figure>\n",
        "    <img src=\"./images/C1W1L1_Run.PNG\"  width=\"400\"  >\n",
        "<figure/>\n",
        "\n"
      ],
      "id": "YVGgx7x8Ikei"
    },
    {
      "cell_type": "markdown",
      "metadata": {
        "id": "1hg6t22eIkei"
      },
      "source": [
        "### Print statement\n",
        "Print statements will generally use the python f-string style.  \n",
        "Try creating your own print in the following cell.  \n",
        "Try both methods of running the cell."
      ],
      "id": "1hg6t22eIkei"
    },
    {
      "cell_type": "code",
      "execution_count": null,
      "metadata": {
        "id": "05Zt3XrpIkei",
        "outputId": "4fd492fc-2b70-4f43-94ec-b4c9916af3a4",
        "colab": {
          "base_uri": "https://localhost:8080/"
        }
      },
      "outputs": [
        {
          "output_type": "stream",
          "name": "stdout",
          "text": [
            "f strings allow you to embed variables right in the strings!\n"
          ]
        }
      ],
      "source": [
        "# print statements\n",
        "variable = \"right in the strings!\"\n",
        "print(f\"f strings allow you to embed variables {variable}\")"
      ],
      "id": "05Zt3XrpIkei"
    },
    {
      "cell_type": "markdown",
      "metadata": {
        "id": "EjeHu7skIkei"
      },
      "source": [
        "# Congratulations!\n",
        "You now know how to find your way around a Jupyter Notebook."
      ],
      "id": "EjeHu7skIkei"
    },
    {
      "cell_type": "code",
      "execution_count": null,
      "metadata": {
        "id": "GKXF9oazIkei"
      },
      "outputs": [],
      "source": [],
      "id": "GKXF9oazIkei"
    }
  ],
  "metadata": {
    "kernelspec": {
      "display_name": "Python 3",
      "language": "python",
      "name": "python3"
    },
    "language_info": {
      "codemirror_mode": {
        "name": "ipython",
        "version": 3
      },
      "file_extension": ".py",
      "mimetype": "text/x-python",
      "name": "python",
      "nbconvert_exporter": "python",
      "pygments_lexer": "ipython3",
      "version": "3.7.6"
    },
    "colab": {
      "provenance": [],
      "include_colab_link": true
    }
  },
  "nbformat": 4,
  "nbformat_minor": 5
}