{
  "cells": [
    {
      "cell_type": "markdown",
      "metadata": {
        "id": "view-in-github",
        "colab_type": "text"
      },
      "source": [
        "<a href=\"https://colab.research.google.com/github/jessicachiang/copier/blob/master/C1_W1_Lab02_Model_Representation_Soln.ipynb\" target=\"_parent\"><img src=\"https://colab.research.google.com/assets/colab-badge.svg\" alt=\"Open In Colab\"/></a>"
      ]
    },
    {
      "cell_type": "markdown",
      "metadata": {
        "id": "AFZGtNZIIs4g"
      },
      "source": [
        "# Optional Lab: Model Representation\n",
        "\n",
        "<figure>\n",
        " <img src=\"./images/C1_W1_L3_S1_Lecture_b.png\"   style=\"width:600px;height:200px;\">\n",
        "</figure>"
      ],
      "id": "AFZGtNZIIs4g"
    },
    {
      "cell_type": "markdown",
      "metadata": {
        "id": "DdXMmSm8Is4i"
      },
      "source": [
        "## Goals\n",
        "In this lab you will:\n",
        "- Learn to implement the model $f_{w,b}$ for linear regression with one variable"
      ],
      "id": "DdXMmSm8Is4i"
    },
    {
      "cell_type": "markdown",
      "metadata": {
        "id": "99Pht9W6Is4j"
      },
      "source": [
        "## Notation\n",
        "Here is a summary of some of the notation you will encounter.  \n",
        "\n",
        "|General <img width=70/> <br />  Notation  <img width=70/> | Description<img width=350/>| Python (if applicable) |\n",
        "|: ------------|: ------------------------------------------------------------||\n",
        "| $a$ | scalar, non bold                                                      ||\n",
        "| $\\mathbf{a}$ | vector, bold                                                      ||\n",
        "| **Regression** |         |    |     |\n",
        "|  $\\mathbf{x}$ | Training Example feature values (in this lab - Size (1000 sqft))  | `x_train` |   \n",
        "|  $\\mathbf{y}$  | Training Example  targets (in this lab Price (1000s of dollars))  | `y_train`\n",
        "|  $x^{(i)}$, $y^{(i)}$ | $i_{th}$Training Example | `x_i`, `y_i`|\n",
        "| m | Number of training examples | `m`|\n",
        "|  $w$  |  parameter: weight                                 | `w`    |\n",
        "|  $b$           |  parameter: bias                                           | `b`    |     \n",
        "| $f_{w,b}(x^{(i)})$ | The result of the model evaluation at $x^{(i)}$ parameterized by $w,b$: $f_{w,b}(x^{(i)}) = wx^{(i)}+b$  | `f_wb` |\n"
      ],
      "id": "99Pht9W6Is4j"
    },
    {
      "cell_type": "markdown",
      "metadata": {
        "id": "dwnYgnP9Is4j"
      },
      "source": [
        "## Tools\n",
        "In this lab you will make use of:\n",
        "- NumPy, a popular library for scientific computing\n",
        "- Matplotlib, a popular library for plotting data"
      ],
      "id": "dwnYgnP9Is4j"
    },
    {
      "cell_type": "code",
      "source": [
        "from google.colab import drive\n",
        "drive.mount('/content/drive')\n"
      ],
      "metadata": {
        "colab": {
          "base_uri": "https://localhost:8080/"
        },
        "id": "ef_Q9DV4KDvq",
        "outputId": "60dbffb7-6f2c-4810-ca6b-beb0eb13261e"
      },
      "id": "ef_Q9DV4KDvq",
      "execution_count": 4,
      "outputs": [
        {
          "output_type": "stream",
          "name": "stdout",
          "text": [
            "Mounted at /content/drive\n"
          ]
        }
      ]
    },
    {
      "cell_type": "code",
      "source": [
        "!find /content/drive/ -name \"deeplearning.mplstyle\""
      ],
      "metadata": {
        "colab": {
          "base_uri": "https://localhost:8080/"
        },
        "id": "JBqJU3o7LLsr",
        "outputId": "dd2b3873-fc5a-4a80-b74e-bd8501e908bd"
      },
      "id": "JBqJU3o7LLsr",
      "execution_count": 17,
      "outputs": [
        {
          "output_type": "stream",
          "name": "stdout",
          "text": [
            "/content/drive/MyDrive/Machine Learning/Course1_M1/MachineLearning_C1_W1/home/jovyan/work/deeplearning.mplstyle\n"
          ]
        }
      ]
    },
    {
      "cell_type": "code",
      "source": [
        "from google.colab import drive\n",
        "drive.mount('/content/drive')"
      ],
      "metadata": {
        "id": "kW3qNEA8eDQW"
      },
      "id": "kW3qNEA8eDQW",
      "execution_count": null,
      "outputs": []
    },
    {
      "cell_type": "code",
      "source": [
        "file_path = '/content/drive/MyDrive/Machine Learning/Course1_M1/MachineLearning_C1_W1/home/jovyan/work/deeplearning.mplstyle'\n",
        "# with open(file_path, 'r') as file:\n",
        "#     print(file.read())\n"
      ],
      "metadata": {
        "colab": {
          "base_uri": "https://localhost:8080/"
        },
        "id": "v6F7ycmQLnrR",
        "outputId": "ac61df68-48fc-4c13-f377-924d99ef0d7e"
      },
      "id": "v6F7ycmQLnrR",
      "execution_count": 6,
      "outputs": [
        {
          "output_type": "stream",
          "name": "stdout",
          "text": [
            "# see https://matplotlib.org/stable/tutorials/introductory/customizing.html\n",
            "lines.linewidth: 4\n",
            "lines.solid_capstyle: butt\n",
            "\n",
            "legend.fancybox: true\n",
            "\n",
            "# Verdana\" for non-math text,\n",
            "# Cambria Math\n",
            "\n",
            "#Blue (Crayon-Aqua) 0096FF\n",
            "#Dark Red C00000\n",
            "#Orange (Apple Orange) FF9300\n",
            "#Black 000000\n",
            "#Magenta FF40FF\n",
            "#Purple 7030A0\n",
            "\n",
            "axes.prop_cycle: cycler('color', ['0096FF', 'FF9300', 'FF40FF', '7030A0', 'C00000'])\n",
            "#axes.facecolor: f0f0f0 # grey\n",
            "axes.facecolor: ffffff  # white\n",
            "axes.labelsize: large\n",
            "axes.axisbelow: true\n",
            "axes.grid: False\n",
            "axes.edgecolor: f0f0f0\n",
            "axes.linewidth: 3.0\n",
            "axes.titlesize: x-large\n",
            "\n",
            "patch.edgecolor: f0f0f0\n",
            "patch.linewidth: 0.5\n",
            "\n",
            "svg.fonttype: path\n",
            "\n",
            "grid.linestyle: -\n",
            "grid.linewidth: 1.0\n",
            "grid.color: cbcbcb\n",
            "\n",
            "xtick.major.size: 0\n",
            "xtick.minor.size: 0\n",
            "ytick.major.size: 0\n",
            "ytick.minor.size: 0\n",
            "\n",
            "savefig.edgecolor: f0f0f0\n",
            "savefig.facecolor: f0f0f0\n",
            "\n",
            "#figure.subplot.left: 0.08\n",
            "#figure.subplot.right: 0.95\n",
            "#figure.subplot.bottom: 0.07\n",
            "\n",
            "#figure.facecolor: f0f0f0  # grey\n",
            "figure.facecolor: ffffff  # white\n",
            "\n",
            "## ***************************************************************************\n",
            "## * FONT                                                                    *\n",
            "## ***************************************************************************\n",
            "## The font properties used by `text.Text`.\n",
            "## See https://matplotlib.org/api/font_manager_api.html for more information\n",
            "## on font properties.  The 6 font properties used for font matching are\n",
            "## given below with their default values.\n",
            "##\n",
            "## The font.family property can take either a concrete font name (not supported\n",
            "## when rendering text with usetex), or one of the following five generic\n",
            "## values:\n",
            "##     - 'serif' (e.g., Times),\n",
            "##     - 'sans-serif' (e.g., Helvetica),\n",
            "##     - 'cursive' (e.g., Zapf-Chancery),\n",
            "##     - 'fantasy' (e.g., Western), and\n",
            "##     - 'monospace' (e.g., Courier).\n",
            "## Each of these values has a corresponding default list of font names\n",
            "## (font.serif, etc.); the first available font in the list is used.  Note that\n",
            "## for font.serif, font.sans-serif, and font.monospace, the first element of\n",
            "## the list (a DejaVu font) will always be used because DejaVu is shipped with\n",
            "## Matplotlib and is thus guaranteed to be available; the other entries are\n",
            "## left as examples of other possible values.\n",
            "##\n",
            "## The font.style property has three values: normal (or roman), italic\n",
            "## or oblique.  The oblique style will be used for italic, if it is not\n",
            "## present.\n",
            "##\n",
            "## The font.variant property has two values: normal or small-caps.  For\n",
            "## TrueType fonts, which are scalable fonts, small-caps is equivalent\n",
            "## to using a font size of 'smaller', or about 83%% of the current font\n",
            "## size.\n",
            "##\n",
            "## The font.weight property has effectively 13 values: normal, bold,\n",
            "## bolder, lighter, 100, 200, 300, ..., 900.  Normal is the same as\n",
            "## 400, and bold is 700.  bolder and lighter are relative values with\n",
            "## respect to the current weight.\n",
            "##\n",
            "## The font.stretch property has 11 values: ultra-condensed,\n",
            "## extra-condensed, condensed, semi-condensed, normal, semi-expanded,\n",
            "## expanded, extra-expanded, ultra-expanded, wider, and narrower.  This\n",
            "## property is not currently implemented.\n",
            "##\n",
            "## The font.size property is the default font size for text, given in points.\n",
            "## 10 pt is the standard value.\n",
            "##\n",
            "## Note that font.size controls default text sizes.  To configure\n",
            "## special text sizes tick labels, axes, labels, title, etc., see the rc\n",
            "## settings for axes and ticks.  Special text sizes can be defined\n",
            "## relative to font.size, using the following values: xx-small, x-small,\n",
            "## small, medium, large, x-large, xx-large, larger, or smaller\n",
            "\n",
            "\n",
            "font.family:  sans-serif\n",
            "font.style:   normal\n",
            "font.variant: normal\n",
            "font.weight:  normal\n",
            "font.stretch: normal\n",
            "font.size:    8.0\n",
            "\n",
            "font.serif:      DejaVu Serif, Bitstream Vera Serif, Computer Modern Roman, New Century Schoolbook, Century Schoolbook L, Utopia, ITC Bookman, Bookman, Nimbus Roman No9 L, Times New Roman, Times, Palatino, Charter, serif\n",
            "font.sans-serif: Verdana, DejaVu Sans, Bitstream Vera Sans, Computer Modern Sans Serif, Lucida Grande, Geneva, Lucid, Arial, Helvetica, Avant Garde, sans-serif\n",
            "font.cursive:    Apple Chancery, Textile, Zapf Chancery, Sand, Script MT, Felipa, Comic Neue, Comic Sans MS, cursive\n",
            "font.fantasy:    Chicago, Charcoal, Impact, Western, Humor Sans, xkcd, fantasy\n",
            "font.monospace:  DejaVu Sans Mono, Bitstream Vera Sans Mono, Computer Modern Typewriter, Andale Mono, Nimbus Mono L, Courier New, Courier, Fixed, Terminal, monospace\n",
            "\n",
            "\n",
            "## ***************************************************************************\n",
            "## * TEXT                                                                    *\n",
            "## ***************************************************************************\n",
            "## The text properties used by `text.Text`.\n",
            "## See https://matplotlib.org/api/artist_api.html#module-matplotlib.text\n",
            "## for more information on text properties\n",
            "#text.color: black\n",
            "\n",
            "\n"
          ]
        }
      ]
    },
    {
      "cell_type": "code",
      "execution_count": 7,
      "metadata": {
        "id": "Ct7baz_wIs4j"
      },
      "outputs": [],
      "source": [
        "import numpy as np\n",
        "import matplotlib.pyplot as plt\n",
        "plt.style.use(file_path)"
      ],
      "id": "Ct7baz_wIs4j"
    },
    {
      "cell_type": "code",
      "source": [],
      "metadata": {
        "id": "j5gbFd4HLsEh"
      },
      "id": "j5gbFd4HLsEh",
      "execution_count": null,
      "outputs": []
    },
    {
      "cell_type": "markdown",
      "metadata": {
        "id": "nBo7S2VMIs4j"
      },
      "source": [
        "# Problem Statement\n",
        "<img align=\"left\" src=\"./images/C1_W1_L3_S1_trainingdata.png\"    style=\" width:380px; padding: 10px;  \" />\n",
        "\n",
        "As in the lecture, you will use the motivating example of housing price prediction.  \n",
        "This lab will use a simple data set with only two data points - a house with 1000 square feet(sqft) sold for \\\\$300,000 and a house with 2000 square feet sold for \\\\$500,000. These two points will constitute our *data or training set*. In this lab, the units of size are 1000 sqft and the units of price are 1000s of dollars.\n",
        "\n",
        "| Size (1000 sqft)     | Price (1000s of dollars) |\n",
        "| -------------------| ------------------------ |\n",
        "| 1.0               | 300                      |\n",
        "| 2.0               | 500                      |\n",
        "\n",
        "You would like to fit a linear regression model (shown above as the blue straight line) through these two points, so you can then predict price for other houses - say, a house with 1200 sqft.\n"
      ],
      "id": "nBo7S2VMIs4j"
    },
    {
      "cell_type": "markdown",
      "metadata": {
        "id": "_6TI1pw2Is4j"
      },
      "source": [
        "Please run the following code cell to create your `x_train` and `y_train` variables. The data is stored in one-dimensional NumPy arrays."
      ],
      "id": "_6TI1pw2Is4j"
    },
    {
      "cell_type": "code",
      "execution_count": 8,
      "metadata": {
        "colab": {
          "base_uri": "https://localhost:8080/"
        },
        "id": "r6VdLkZmIs4k",
        "outputId": "8b992789-8d2c-4204-9e76-00099e90df53"
      },
      "outputs": [
        {
          "output_type": "stream",
          "name": "stdout",
          "text": [
            "x_train = [1. 2.]\n",
            "y_train = [300. 500.]\n"
          ]
        }
      ],
      "source": [
        "# x_train is the input variable (size in 1000 square feet)\n",
        "# y_train is the target (price in 1000s of dollars)\n",
        "x_train = np.array([1.0, 2.0])\n",
        "y_train = np.array([300.0, 500.0])\n",
        "print(f\"x_train = {x_train}\")\n",
        "print(f\"y_train = {y_train}\")"
      ],
      "id": "r6VdLkZmIs4k"
    },
    {
      "cell_type": "markdown",
      "metadata": {
        "id": "2CfuVyDNIs4k"
      },
      "source": [
        ">**Note**: The course will frequently utilize the python 'f-string' output formatting described [here](https://docs.python.org/3/tutorial/inputoutput.html) when printing. The content between the curly braces is evaluated when producing the output."
      ],
      "id": "2CfuVyDNIs4k"
    },
    {
      "cell_type": "markdown",
      "metadata": {
        "id": "2Ywr_CexIs4k"
      },
      "source": [
        "### Number of training examples `m`\n",
        "You will use `m` to denote the number of training examples. Numpy arrays have a `.shape` parameter. `x_train.shape` returns a python tuple with an entry for each dimension. `x_train.shape[0]` is the length of the array and number of examples as shown below."
      ],
      "id": "2Ywr_CexIs4k"
    },
    {
      "cell_type": "code",
      "execution_count": 9,
      "metadata": {
        "colab": {
          "base_uri": "https://localhost:8080/"
        },
        "id": "FRZv3eEEIs4k",
        "outputId": "64b536f7-532b-4605-9e5c-cf8e1015188a"
      },
      "outputs": [
        {
          "output_type": "stream",
          "name": "stdout",
          "text": [
            "x_train.shape: (2,)\n",
            "Number of training examples is: 2\n"
          ]
        }
      ],
      "source": [
        "# m is the number of training examples\n",
        "print(f\"x_train.shape: {x_train.shape}\")\n",
        "m = x_train.shape[0]\n",
        "print(f\"Number of training examples is: {m}\")"
      ],
      "id": "FRZv3eEEIs4k"
    },
    {
      "cell_type": "markdown",
      "metadata": {
        "id": "19DroVr3Is4k"
      },
      "source": [
        "One can also use the Python `len()` function as shown below."
      ],
      "id": "19DroVr3Is4k"
    },
    {
      "cell_type": "code",
      "execution_count": 10,
      "metadata": {
        "colab": {
          "base_uri": "https://localhost:8080/"
        },
        "id": "6nnO_G6xIs4k",
        "outputId": "69f14431-fa5e-4e92-8416-db635e625a21"
      },
      "outputs": [
        {
          "output_type": "stream",
          "name": "stdout",
          "text": [
            "Number of training examples is: 2\n"
          ]
        }
      ],
      "source": [
        "# m is the number of training examples\n",
        "m = len(x_train)\n",
        "print(f\"Number of training examples is: {m}\")"
      ],
      "id": "6nnO_G6xIs4k"
    },
    {
      "cell_type": "markdown",
      "metadata": {
        "id": "W9fw85NDIs4k"
      },
      "source": [
        "### Training example `x_i, y_i`\n",
        "\n",
        "You will use (x$^{(i)}$, y$^{(i)}$) to denote the $i^{th}$ training example. Since Python is zero indexed, (x$^{(0)}$, y$^{(0)}$) is (1.0, 300.0) and (x$^{(1)}$, y$^{(1)}$) is (2.0, 500.0).\n",
        "\n",
        "To access a value in a Numpy array, one indexes the array with the desired offset. For example the syntax to access location zero of `x_train` is `x_train[0]`.\n",
        "Run the next code block below to get the $i^{th}$ training example."
      ],
      "id": "W9fw85NDIs4k"
    },
    {
      "cell_type": "code",
      "execution_count": 11,
      "metadata": {
        "colab": {
          "base_uri": "https://localhost:8080/"
        },
        "id": "kjy7WgU6Is4k",
        "outputId": "479b479b-40b3-4324-8ff1-02362bc3fe26"
      },
      "outputs": [
        {
          "output_type": "stream",
          "name": "stdout",
          "text": [
            "(x^(1), y^(1)) = (2.0, 500.0)\n"
          ]
        }
      ],
      "source": [
        "i = 1 # Change this to 1 to see (x^1, y^1)\n",
        "\n",
        "x_i = x_train[i]\n",
        "y_i = y_train[i]\n",
        "print(f\"(x^({i}), y^({i})) = ({x_i}, {y_i})\")"
      ],
      "id": "kjy7WgU6Is4k"
    },
    {
      "cell_type": "markdown",
      "metadata": {
        "id": "GsJ00F0KIs4l"
      },
      "source": [
        "### Plotting the data"
      ],
      "id": "GsJ00F0KIs4l"
    },
    {
      "cell_type": "markdown",
      "metadata": {
        "id": "Uv6oC8akIs4l"
      },
      "source": [
        "You can plot these two points using the `scatter()` function in the `matplotlib` library, as shown in the cell below.\n",
        "- The function arguments `marker` and `c` show the points as red crosses (the default is blue dots).\n",
        "\n",
        "You can use other functions in the `matplotlib` library to set the title and labels to display"
      ],
      "id": "Uv6oC8akIs4l"
    },
    {
      "cell_type": "code",
      "execution_count": 12,
      "metadata": {
        "colab": {
          "base_uri": "https://localhost:8080/",
          "height": 460
        },
        "id": "lH0jw50tIs4l",
        "outputId": "f2b60f2e-e863-4f15-86a7-2d1eccde07d0"
      },
      "outputs": [
        {
          "output_type": "display_data",
          "data": {
            "text/plain": [
              "<Figure size 640x480 with 1 Axes>"
            ],
            "image/png": "[encoded data removed]"
          },
          "metadata": {}
        }
      ],
      "source": [
        "# Plot the data points\n",
        "plt.scatter(x_train, y_train, marker='x', c='r')\n",
        "# Set the title\n",
        "plt.title(\"Housing Prices 2023\")\n",
        "# Set the y-axis label\n",
        "plt.ylabel('Price (in 1000s of dollars)')\n",
        "# Set the x-axis label\n",
        "plt.xlabel('Size (1000 sqft)')\n",
        "plt.show()"
      ],
      "id": "lH0jw50tIs4l"
    },
    {
      "cell_type": "markdown",
      "metadata": {
        "id": "k3N6IE2zIs4l"
      },
      "source": [
        "## Model function\n",
        "\n",
        "<img align=\"left\" src=\"./images/C1_W1_L3_S1_model.png\"     style=\" width:380px; padding: 10px; \" > As described in lecture, the model function for linear regression (which is a function that maps from `x` to `y`) is represented as\n",
        "\n",
        "$$ f_{w,b}(x^{(i)}) = wx^{(i)} + b \\tag{1}$$\n",
        "\n",
        "The formula above is how you can represent straight lines - different values of $w$ and $b$ give you different straight lines on the plot. <br/> <br/> <br/> <br/> <br/>\n",
        "\n",
        "Let's try to get a better intuition for this through the code blocks below. Let's start with $w = 100$ and $b = 100$.\n",
        "\n",
        "**Note: You can come back to this cell to adjust the model's w and b parameters**"
      ],
      "id": "k3N6IE2zIs4l"
    },
    {
      "cell_type": "code",
      "execution_count": 13,
      "metadata": {
        "colab": {
          "base_uri": "https://localhost:8080/"
        },
        "id": "4f_koPCUIs4l",
        "outputId": "328569d7-3979-4e64-b6c0-2dc01ef284a8"
      },
      "outputs": [
        {
          "output_type": "stream",
          "name": "stdout",
          "text": [
            "w: 100\n",
            "b: 100\n"
          ]
        }
      ],
      "source": [
        "w = 100\n",
        "b = 100\n",
        "print(f\"w: {w}\")\n",
        "print(f\"b: {b}\")"
      ],
      "id": "4f_koPCUIs4l"
    },
    {
      "cell_type": "markdown",
      "metadata": {
        "id": "rQrXHcXaIs4l"
      },
      "source": [
        "Now, let's compute the value of $f_{w,b}(x^{(i)})$ for your two data points. You can explicitly write this out for each data point as -\n",
        "\n",
        "for $x^{(0)}$, `f_wb = w * x[0] + b`\n",
        "\n",
        "for $x^{(1)}$, `f_wb = w * x[1] + b`\n",
        "\n",
        "For a large number of data points, this can get unwieldy and repetitive. So instead, you can calculate the function output in a `for` loop as shown in the `compute_model_output` function below.\n",
        "> **Note**: The argument description `(ndarray (m,))` describes a Numpy n-dimensional array of shape (m,). `(scalar)` describes an argument without dimensions, just a magnitude.  \n",
        "> **Note**: `np.zero(n)` will return a one-dimensional numpy array with $n$ entries   \n"
      ],
      "id": "rQrXHcXaIs4l"
    },
    {
      "cell_type": "code",
      "execution_count": 14,
      "metadata": {
        "id": "35S_X4huIs4l"
      },
      "outputs": [],
      "source": [
        "def compute_model_output(x, w, b):\n",
        "    \"\"\"\n",
        "    Computes the prediction of a linear model\n",
        "    Args:\n",
        "      x (ndarray (m,)): Data, m examples\n",
        "      w,b (scalar)    : model parameters\n",
        "    Returns\n",
        "      f_wb (ndarray (m,)): model prediction\n",
        "    \"\"\"\n",
        "    m = x.shape[0]\n",
        "    f_wb = np.zeros(m)\n",
        "    for i in range(m):\n",
        "        f_wb[i] = w * x[i] + b\n",
        "\n",
        "    return f_wb"
      ],
      "id": "35S_X4huIs4l"
    },
    {
      "cell_type": "markdown",
      "metadata": {
        "id": "yJ6zeYidIs4l"
      },
      "source": [
        "Now let's call the `compute_model_output` function and plot the output.."
      ],
      "id": "yJ6zeYidIs4l"
    },
    {
      "cell_type": "code",
      "execution_count": 15,
      "metadata": {
        "colab": {
          "base_uri": "https://localhost:8080/",
          "height": 460
        },
        "id": "2olYY6uJIs4l",
        "outputId": "913bcd71-07c0-411c-c8fa-d08f899083cf"
      },
      "outputs": [
        {
          "output_type": "display_data",
          "data": {
            "text/plain": [
              "<Figure size 640x480 with 1 Axes>"
            ],
            "image/png": "[encoded data removed]"
          },
          "metadata": {}
        }
      ],
      "source": [
        "w=180\n",
        "b=130\n",
        "tmp_f_wb = compute_model_output(x_train, w, b,)\n",
        "\n",
        "# Plot our model prediction\n",
        "plt.plot(x_train, tmp_f_wb, c='b',label='Our Prediction')\n",
        "\n",
        "# Plot the data points\n",
        "plt.scatter(x_train, y_train, marker='x', c='r',label='Actual Values')\n",
        "\n",
        "# Set the title\n",
        "plt.title(\"Housing Prices 2023\")\n",
        "# Set the y-axis label\n",
        "plt.ylabel('Price (in 1000s of dollars)')\n",
        "# Set the x-axis label\n",
        "plt.xlabel('Size (1000 sqft)')\n",
        "plt.legend()\n",
        "plt.show()"
      ],
      "id": "2olYY6uJIs4l"
    },
    {
      "cell_type": "markdown",
      "metadata": {
        "id": "IYQNtY7BIs4l"
      },
      "source": [
        "As you can see, setting $w = 100$ and $b = 100$ does *not* result in a line that fits our data.\n",
        "\n",
        "### Challenge\n",
        "Try experimenting with different values of $w$ and $b$. What should the values be for a line that fits our data?\n",
        "\n",
        "#### Tip:\n",
        "You can use your mouse to click on the green \"Hints\" below to reveal some hints for choosing b and w."
      ],
      "id": "IYQNtY7BIs4l"
    },
    {
      "cell_type": "markdown",
      "metadata": {
        "id": "p-ktdIgaIs4l"
      },
      "source": [
        "<details>\n",
        "<summary>\n",
        "    <font size='3', color='darkgreen'><b>Hints</b></font>\n",
        "</summary>\n",
        "    <p>\n",
        "    <ul>\n",
        "        <li>Try $w = 200$ and $b = 100$ </li>\n",
        "    </ul>\n",
        "    </p>"
      ],
      "id": "p-ktdIgaIs4l"
    },
    {
      "cell_type": "markdown",
      "metadata": {
        "id": "i7GWzPsnIs4l"
      },
      "source": [
        "### Prediction\n",
        "Now that we have a model, we can use it to make our original prediction. Let's predict the price of a house with 1200 sqft. Since the units of $x$ are in 1000's of sqft, $x$ is 1.2.\n"
      ],
      "id": "i7GWzPsnIs4l"
    },
    {
      "cell_type": "code",
      "execution_count": 16,
      "metadata": {
        "colab": {
          "base_uri": "https://localhost:8080/"
        },
        "id": "60b4Q1NkIs4l",
        "outputId": "31666b23-fe1b-496e-d75f-7f1c32cef67b"
      },
      "outputs": [
        {
          "output_type": "stream",
          "name": "stdout",
          "text": [
            "$340 thousand dollars\n"
          ]
        }
      ],
      "source": [
        "w = 200\n",
        "b = 100\n",
        "x_i = 1.2\n",
        "cost_1200sqft = w * x_i + b\n",
        "\n",
        "print(f\"${cost_1200sqft:.0f} thousand dollars\")"
      ],
      "id": "60b4Q1NkIs4l"
    },
    {
      "cell_type": "markdown",
      "metadata": {
        "id": "JPU7bd0YIs4l"
      },
      "source": [
        "# Congratulations!\n",
        "In this lab you have learned:\n",
        " - Linear regression builds a model which establishes a relationship between features and targets\n",
        "     - In the example above, the feature was house size and the target was house price\n",
        "     - for simple linear regression, the model has two parameters $w$ and $b$ whose values are 'fit' using *training data*.\n",
        "     - once a model's parameters have been determined, the model can be used to make predictions on novel data."
      ],
      "id": "JPU7bd0YIs4l"
    },
    {
      "cell_type": "code",
      "execution_count": 16,
      "metadata": {
        "id": "unY5zffuIs4l"
      },
      "outputs": [],
      "source": [],
      "id": "unY5zffuIs4l"
    }
  ],
  "metadata": {
    "kernelspec": {
      "display_name": "Python 3",
      "language": "python",
      "name": "python3"
    },
    "language_info": {
      "codemirror_mode": {
        "name": "ipython",
        "version": 3
      },
      "file_extension": ".py",
      "mimetype": "text/x-python",
      "name": "python",
      "nbconvert_exporter": "python",
      "pygments_lexer": "ipython3",
      "version": "3.7.6"
    },
    "toc-autonumbering": false,
    "colab": {
      "provenance": [],
      "include_colab_link": true
    }
  },
  "nbformat": 4,
  "nbformat_minor": 5
}