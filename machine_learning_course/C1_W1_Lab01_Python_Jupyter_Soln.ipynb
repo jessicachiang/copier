{
  "cells": [
    {
      "cell_type": "markdown",
      "metadata": {
        "colab_type": "text",
        "id": "view-in-github"
      },
      "source": [
        "<a href=\"https://colab.research.google.com/github/jessicachiang/copier/blob/master/C1_W1_Lab01_Python_Jupyter_Soln.ipynb\" target=\"_parent\"><img src=\"https://colab.research.google.com/assets/colab-badge.svg\" alt=\"Open In Colab\"/></a>"
      ]
    },
    {
      "cell_type": "markdown",
      "id": "UaZ_gay2Iked",
      "metadata": {
        "id": "UaZ_gay2Iked"
      },
      "source": [
        "# Optional Lab:  Brief Introduction to Python and Jupyter Notebooks\n",
        "Welcome to the first optional lab!\n",
        "Optional labs are available to:\n",
        "- provide information - like this notebook\n",
        "- reinforce lecture material with hands-on examples\n",
        "- provide working examples of routines used in the graded labs"
      ]
    },
    {
      "cell_type": "markdown",
      "id": "4wTtTviUIkef",
      "metadata": {
        "id": "4wTtTviUIkef"
      },
      "source": [
        "## Goals\n",
        "In this lab, you will:\n",
        "- Get a brief introduction to Jupyter notebooks\n",
        "- Take a tour of Jupyter notebooks\n",
        "- Learn the difference between markdown cells and code cells\n",
        "- Practice some basic python\n"
      ]
    },
    {
      "cell_type": "markdown",
      "id": "pEHsiGeWIkeg",
      "metadata": {
        "id": "pEHsiGeWIkeg"
      },
      "source": [
        "The easiest way to become familiar with Jupyter notebooks is to take the tour available above in the Help menu:"
      ]
    },
    {
      "cell_type": "markdown",
      "id": "gmNbk8yfIkeg",
      "metadata": {
        "id": "gmNbk8yfIkeg"
      },
      "source": [
        "<figure>\n",
        "    <center> <img src=\"./images/C1W1L1_Tour.PNG\"  alt='missing' width=\"400\"  ><center/>\n",
        "<figure/>"
      ]
    },
    {
      "cell_type": "markdown",
      "id": "7yn-SdXzIkeg",
      "metadata": {
        "id": "7yn-SdXzIkeg"
      },
      "source": [
        "<figure>\n",
        "   <img src=\"./images/C1W1L1_Markdown.PNG\"  alt='missing' width=\"400\"  >\n",
        "<figure/>"
      ]
    },
    {
      "cell_type": "markdown",
      "id": "7pcRlqkPIkeh",
      "metadata": {
        "id": "7pcRlqkPIkeh"
      },
      "source": [
        "The other type of cell is the `code cell` where you will write your code:"
      ]
    },
    {
      "cell_type": "code",
      "execution_count": null,
      "id": "X9a9sITsIkeh",
      "metadata": {
        "colab": {
          "base_uri": "https://localhost:8080/"
        },
        "id": "X9a9sITsIkeh",
        "outputId": "ec71d284-e009-44aa-c81b-2c3d72f10ad1"
      },
      "outputs": [
        {
          "name": "stdout",
          "output_type": "stream",
          "text": [
            "This is  code cell - jess\n"
          ]
        }
      ],
      "source": [
        "#This is  a 'Code' Cell\n",
        "print(\"This is  code cell - jess\")"
      ]
    },
    {
      "cell_type": "markdown",
      "id": "YVGgx7x8Ikei",
      "metadata": {
        "id": "YVGgx7x8Ikei"
      },
      "source": [
        "## Python\n",
        "You can write your code in the code cells.\n",
        "To run the code, select the cell and either\n",
        "- hold the shift-key down and hit 'enter' or 'return'\n",
        "- click the 'run' arrow above\n",
        "<figure>\n",
        "    <img src=\"./images/C1W1L1_Run.PNG\"  width=\"400\"  >\n",
        "<figure/>\n",
        "\n"
      ]
    },
    {
      "cell_type": "markdown",
      "id": "1hg6t22eIkei",
      "metadata": {
        "id": "1hg6t22eIkei"
      },
      "source": [
        "### Print statement\n",
        "Print statements will generally use the python f-string style.  \n",
        "Try creating your own print in the following cell.  \n",
        "Try both methods of running the cell."
      ]
    },
    {
      "cell_type": "code",
      "execution_count": null,
      "id": "05Zt3XrpIkei",
      "metadata": {
        "colab": {
          "base_uri": "https://localhost:8080/"
        },
        "id": "05Zt3XrpIkei",
        "outputId": "4fd492fc-2b70-4f43-94ec-b4c9916af3a4"
      },
      "outputs": [
        {
          "name": "stdout",
          "output_type": "stream",
          "text": [
            "f strings allow you to embed variables right in the strings!\n"
          ]
        }
      ],
      "source": [
        "# print statements\n",
        "variable = \"right in the strings!\"\n",
        "print(f\"f strings allow you to embed variables {variable}\")"
      ]
    },
    {
      "cell_type": "markdown",
      "id": "EjeHu7skIkei",
      "metadata": {
        "id": "EjeHu7skIkei"
      },
      "source": [
        "# Congratulations!\n",
        "You now know how to find your way around a Jupyter Notebook."
      ]
    },
    {
      "cell_type": "code",
      "execution_count": null,
      "id": "GKXF9oazIkei",
      "metadata": {
        "id": "GKXF9oazIkei"
      },
      "outputs": [],
      "source": []
    }
  ],
  "metadata": {
    "colab": {
      "include_colab_link": true,
      "provenance": []
    },
    "kernelspec": {
      "display_name": "Python 3",
      "language": "python",
      "name": "python3"
    },
    "language_info": {
      "codemirror_mode": {
        "name": "ipython",
        "version": 3
      },
      "file_extension": ".py",
      "mimetype": "text/x-python",
      "name": "python",
      "nbconvert_exporter": "python",
      "pygments_lexer": "ipython3",
      "version": "3.7.6"
    }
  },
  "nbformat": 4,
  "nbformat_minor": 5
}
